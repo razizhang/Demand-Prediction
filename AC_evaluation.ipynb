{
 "cells": [
  {
   "cell_type": "code",
   "execution_count": 1,
   "metadata": {
    "collapsed": true
   },
   "outputs": [],
   "source": [
    "import pandas as pd\n",
    "import numpy as np"
   ]
  },
  {
   "cell_type": "code",
   "execution_count": 2,
   "metadata": {
    "collapsed": true
   },
   "outputs": [],
   "source": [
    "def calculate_ac_value(dm, sp):\n",
    "    #score = dm / (sp + 1)\n",
    "    score = dm - sp\n",
    "    \n",
    "    return score\n"
   ]
  },
  {
   "cell_type": "code",
   "execution_count": 3,
   "metadata": {
    "collapsed": true
   },
   "outputs": [],
   "source": [
    "def find_ac_category(sort_label, num_A):\n",
    "    \n",
    "    df_data = pd.read_csv('./pred_result_s.csv', usecols= ['lng','lat','time', 'dm_pred','dm', 'sp'])\n",
    "    df_data['pred_score'] = df_data['dm_pred'] - df_data['sp']\n",
    "    df_data['real_score'] = df_data['dm'] - df_data['sp']\n",
    "    \n",
    "    # params\n",
    "    min_dm = 3\n",
    "    min_sp = 3\n",
    "    \n",
    "    df_data[(df_data['dm'] >= min_dm ) &  (df_data['sp'] >= min_sp)]\n",
    "        \n",
    "    df_score = df_data.groupby(['lng', 'lat'])['pred_score','real_score'].sum().reset_index()\n",
    "    df_score.sort_values([sort_label], ascending=False, inplace=True)\n",
    "    \n",
    "    df_score[['lat','lng']][:num_A].to_csv((sort_label+'_cd_ABlocks.csv'), index=False)"
   ]
  },
  {
   "cell_type": "code",
   "execution_count": 5,
   "metadata": {
    "collapsed": true
   },
   "outputs": [],
   "source": [
    "find_ac_category('pred_score', 500)"
   ]
  },
  {
   "cell_type": "code",
   "execution_count": 142,
   "metadata": {
    "collapsed": true
   },
   "outputs": [],
   "source": [
    "import matplotlib.pyplot as plt"
   ]
  },
  {
   "cell_type": "code",
   "execution_count": 143,
   "metadata": {
    "collapsed": true
   },
   "outputs": [],
   "source": [
    "s = df_score['pred_score'].values"
   ]
  },
  {
   "cell_type": "code",
   "execution_count": 144,
   "metadata": {},
   "outputs": [
    {
     "data": {
      "image/png": "[encoded data removed]",
      "text/plain": [
       "<matplotlib.figure.Figure at 0x87406736a0>"
      ]
     },
     "metadata": {},
     "output_type": "display_data"
    }
   ],
   "source": [
    "plt.figure(figsize=(10,5))\n",
    "plt.plot(s, color = 'lightseagreen')\n",
    "plt.xlabel('Block')\n",
    "plt.ylabel('AC_value')\n",
    "plt.show()\n",
    "plt.close()"
   ]
  }
 ],
 "metadata": {
  "kernelspec": {
   "display_name": "Python 3",
   "language": "python",
   "name": "python3"
  },
  "language_info": {
   "codemirror_mode": {
    "name": "ipython",
    "version": 3
   },
   "file_extension": ".py",
   "mimetype": "text/x-python",
   "name": "python",
   "nbconvert_exporter": "python",
   "pygments_lexer": "ipython3",
   "version": "3.6.1"
  }
 },
 "nbformat": 4,
 "nbformat_minor": 2
}
